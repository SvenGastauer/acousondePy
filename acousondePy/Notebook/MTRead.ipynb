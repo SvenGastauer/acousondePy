{
 "cells": [
  {
   "cell_type": "markdown",
   "metadata": {},
   "source": [
    "## Acousonde MT files converter\n",
    "\n",
    "We can read any MT file and convert acoustic data files into wav files, save Header information as csv and save the auxiliary information in a separate csv file.  \n",
    "First, we load the library. At the moment *acousondePy* is not yet available on through pip but will be very soon. Once this is fixed, the library can simply be loaded through *import acousondePy*.For now we read the functions from the source file.We also load *glob* the get a list of all available MT files.  \n",
    "In a next step we get a list of all *.MT* files in the data subdirectory:"
   ]
  },
  {
   "cell_type": "code",
   "execution_count": 2,
   "metadata": {},
   "outputs": [],
   "source": [
    "from MTRead import *\n",
    "import glob\n",
    "\n",
    "#pattern for the MT files\n",
    "path = \"./data/\"\n",
    "pattern = '*.MT'\n",
    "#get list of all auxilliary MT files\n",
    "fns = glob.glob(path+pattern)"
   ]
  },
  {
   "cell_type": "markdown",
   "metadata": {},
   "source": [
    "To read a single MT file we can use *MTread()*. Here a minimal example:"
   ]
  },
  {
   "cell_type": "code",
   "execution_count": 12,
   "metadata": {},
   "outputs": [
    {
     "name": "stdout",
     "output_type": "stream",
     "text": [
      "21:04:28 - Found Data...\n",
      "21:04:28 - Getting Header information...\n",
      "{'totalhdrs': 1, 'abbrev   ': 'LoPower', 'stationcode': 'SB', 'title': 'TEST in air and in water * path +22.5 dB * fc 2323 Hz', 'month': '07', 'day': '29', 'year': '2020', 'hours': '21', 'minutes': '23', 'seconds': '25', 'msec': '000', 'sampling_period': 0.000163580368, 'samplebits': 16, 'wordsize': 2, 'typemark': 'A', 'swapping': 'S', 'signing': 'S', 'caltype': 'C', 'calmin': -225453.67, 'calmax': 225446.79, 'calunits': 'mPa', 'recordsize': 512, 'sourcevers': '2.6.2', 'sourcesn': 'B003A041'}\n",
      "21:04:28 - Getting Meta data...\n",
      "21:04:28 - Reading Data...\n",
      "21:04:29 - Returning data...\n"
     ]
    }
   ],
   "source": [
    "p, HEADER, INFO  = MTread(fns[4])"
   ]
  },
  {
   "cell_type": "markdown",
   "metadata": {},
   "source": [
    "This gives us access to the contained data:"
   ]
  },
  {
   "cell_type": "code",
   "execution_count": 13,
   "metadata": {},
   "outputs": [
    {
     "data": {
      "text/plain": [
       "array([-197271.96123125,    6543.16544274,    9790.66703914, ...,\n",
       "         12123.08873655,   12116.20843656,   12088.68723659])"
      ]
     },
     "execution_count": 13,
     "metadata": {},
     "output_type": "execute_result"
    }
   ],
   "source": [
    "p"
   ]
  },
  {
   "cell_type": "markdown",
   "metadata": {},
   "source": [
    "The Header indormation:"
   ]
  },
  {
   "cell_type": "code",
   "execution_count": 14,
   "metadata": {},
   "outputs": [
    {
     "data": {
      "text/plain": [
       "{'totalhdrs': 1,\n",
       " 'abbrev   ': 'LoPower',\n",
       " 'stationcode': 'SB',\n",
       " 'title': 'TEST in air and in water * path +22.5 dB * fc 2323 Hz',\n",
       " 'month': '07',\n",
       " 'day': '29',\n",
       " 'year': '2020',\n",
       " 'hours': '21',\n",
       " 'minutes': '23',\n",
       " 'seconds': '25',\n",
       " 'msec': '000',\n",
       " 'sampling_period': 0.000163580368,\n",
       " 'samplebits': 16,\n",
       " 'wordsize': 2,\n",
       " 'typemark': 'A',\n",
       " 'swapping': 'S',\n",
       " 'signing': 'S',\n",
       " 'caltype': 'C',\n",
       " 'calmin': -225453.67,\n",
       " 'calmax': 225446.79,\n",
       " 'calunits': 'mPa',\n",
       " 'recordsize': 512,\n",
       " 'sourcevers': '2.6.2',\n",
       " 'sourcesn': 'B003A041'}"
      ]
     },
     "execution_count": 14,
     "metadata": {},
     "output_type": "execute_result"
    }
   ],
   "source": [
    "HEADER"
   ]
  },
  {
   "cell_type": "markdown",
   "metadata": {},
   "source": [
    "and the file info:"
   ]
  },
  {
   "cell_type": "code",
   "execution_count": 15,
   "metadata": {},
   "outputs": [
    {
     "data": {
      "text/plain": [
       "{'filename': './data\\\\SBS00006.MT',\n",
       " 'filesize': 7471104,\n",
       " 'srate': 6113.203022015454,\n",
       " 'when': datetime.datetime(2020, 7, 29, 21, 23, 25),\n",
       " 'datenumber': 737635.0,\n",
       " 'whenC': datetime.datetime(2020, 7, 29, 21, 23, 25),\n",
       " 'nsamp': 3735296,\n",
       " 'seconds': 611.021094268928}"
      ]
     },
     "execution_count": 15,
     "metadata": {},
     "output_type": "execute_result"
    }
   ],
   "source": [
    "INFO"
   ]
  },
  {
   "cell_type": "markdown",
   "metadata": {},
   "source": [
    "Currently we can also have a look at the spectrogram:"
   ]
  },
  {
   "cell_type": "code",
   "execution_count": 17,
   "metadata": {},
   "outputs": [
    {
     "ename": "TypeError",
     "evalue": "spec_plot() missing 1 required positional argument: 'inf'",
     "output_type": "error",
     "traceback": [
      "\u001b[1;31m---------------------------------------------------------------------------\u001b[0m",
      "\u001b[1;31mTypeError\u001b[0m                                 Traceback (most recent call last)",
      "\u001b[1;32m<ipython-input-17-ca77d848137a>\u001b[0m in \u001b[0;36m<module>\u001b[1;34m\u001b[0m\n\u001b[1;32m----> 1\u001b[1;33m \u001b[0mspec_plot\u001b[0m\u001b[1;33m(\u001b[0m\u001b[0mp\u001b[0m\u001b[1;33m,\u001b[0m\u001b[0mHEADER\u001b[0m\u001b[1;33m)\u001b[0m\u001b[1;33m\u001b[0m\u001b[1;33m\u001b[0m\u001b[0m\n\u001b[0m",
      "\u001b[1;31mTypeError\u001b[0m: spec_plot() missing 1 required positional argument: 'inf'"
     ]
    }
   ],
   "source": [
    "spec_plot(p,HEADER,INFO)"
   ]
  },
  {
   "cell_type": "markdown",
   "metadata": {},
   "source": [
    "Or we can read and convert all the files:"
   ]
  },
  {
   "cell_type": "code",
   "execution_count": 16,
   "metadata": {},
   "outputs": [
    {
     "name": "stdout",
     "output_type": "stream",
     "text": [
      "21:04:45 - Found Data...\n",
      "21:04:45 - Getting Header information...\n",
      "{'totalhdrs': 1, 'abbrev   ': 'Accel/X', 'stationcode': 'SB', 'title': 'TEST in air and in water', 'month': '07', 'day': '29', 'year': '2020', 'hours': '21', 'minutes': '23', 'seconds': '25', 'msec': '000', 'sampling_period': 0.01, 'samplebits': 10, 'wordsize': 2, 'typemark': 'A', 'swapping': 'S', 'signing': 'S', 'caltype': 'C', 'calmin': -2000.0, 'calmax': 1996.09375, 'calunits': 'mg', 'recordsize': 512, 'sourcevers': '2.6.2', 'sourcesn': 'B003A041'}\n",
      "21:04:45 - Getting Meta data...\n",
      "21:04:45 - Reading Data...\n",
      "21:04:45 - Returning data...\n",
      "21:04:45 - Found Data...\n",
      "21:04:45 - Getting Header information...\n",
      "{'totalhdrs': 1, 'abbrev   ': 'Accel/Y', 'stationcode': 'SB', 'title': 'TEST in air and in water', 'month': '07', 'day': '29', 'year': '2020', 'hours': '21', 'minutes': '23', 'seconds': '25', 'msec': '000', 'sampling_period': 0.01, 'samplebits': 10, 'wordsize': 2, 'typemark': 'A', 'swapping': 'S', 'signing': 'S', 'caltype': 'C', 'calmin': -2000.0, 'calmax': 1996.09375, 'calunits': 'mg', 'recordsize': 512, 'sourcevers': '2.6.2', 'sourcesn': 'B003A041'}\n",
      "21:04:45 - Getting Meta data...\n",
      "21:04:45 - Reading Data...\n",
      "21:04:45 - Returning data...\n",
      "21:04:45 - Found Data...\n",
      "21:04:45 - Getting Header information...\n",
      "{'totalhdrs': 1, 'abbrev   ': 'Accel/Z', 'stationcode': 'SB', 'title': 'TEST in air and in water', 'month': '07', 'day': '29', 'year': '2020', 'hours': '21', 'minutes': '23', 'seconds': '25', 'msec': '000', 'sampling_period': 0.01, 'samplebits': 10, 'wordsize': 2, 'typemark': 'A', 'swapping': 'S', 'signing': 'S', 'caltype': 'C', 'calmin': -2000.0, 'calmax': 1996.09375, 'calunits': 'mg', 'recordsize': 512, 'sourcevers': '2.6.2', 'sourcesn': 'B003A041'}\n",
      "21:04:45 - Getting Meta data...\n",
      "21:04:45 - Reading Data...\n",
      "21:04:45 - Returning data...\n",
      "21:04:45 - Found Data...\n",
      "21:04:45 - Getting Header information...\n",
      "{'totalhdrs': 1, 'abbrev   ': 'Press', 'stationcode': 'SB', 'title': 'TEST in air and in water', 'month': '07', 'day': '29', 'year': '2020', 'hours': '21', 'minutes': '23', 'seconds': '25', 'msec': '000', 'sampling_period': 0.1, 'samplebits': 16, 'wordsize': 2, 'typemark': 'A', 'swapping': 'S', 'signing': 'U', 'caltype': 'C', 'calmin': -123.617562, 'calmax': 3488.1487, 'calunits': 'dbar', 'recordsize': 512, 'sourcevers': '2.6.2', 'sourcesn': 'B003A041'}\n",
      "21:04:45 - Getting Meta data...\n",
      "21:04:45 - Reading Data...\n",
      "21:04:45 - Returning data...\n",
      "21:04:45 - Found Data...\n",
      "21:04:45 - Getting Header information...\n",
      "{'totalhdrs': 1, 'abbrev   ': 'LoPower', 'stationcode': 'SB', 'title': 'TEST in air and in water * path +22.5 dB * fc 2323 Hz', 'month': '07', 'day': '29', 'year': '2020', 'hours': '21', 'minutes': '23', 'seconds': '25', 'msec': '000', 'sampling_period': 0.000163580368, 'samplebits': 16, 'wordsize': 2, 'typemark': 'A', 'swapping': 'S', 'signing': 'S', 'caltype': 'C', 'calmin': -225453.67, 'calmax': 225446.79, 'calunits': 'mPa', 'recordsize': 512, 'sourcevers': '2.6.2', 'sourcesn': 'B003A041'}\n",
      "21:04:45 - Getting Meta data...\n",
      "21:04:45 - Reading Data...\n",
      "21:04:45 - Returning data...\n",
      "21:04:45 - Saving wav file...TEST in air and in water * path +22.5 dB * fc 2323 Hz\n",
      "21:04:45 - Found Data...\n",
      "21:04:45 - Getting Header information...\n",
      "{'totalhdrs': 1, 'abbrev   ': 'Temp', 'stationcode': 'SB', 'title': 'TEST in air and in water', 'month': '07', 'day': '29', 'year': '2020', 'hours': '21', 'minutes': '23', 'seconds': '25', 'msec': '000', 'sampling_period': 0.1, 'samplebits': 16, 'wordsize': 2, 'typemark': 'A', 'swapping': 'S', 'signing': 'U', 'caltype': 'C', 'calmin': -20.0001632, 'calmax': 68.9701528, 'calunits': 'C', 'recordsize': 512, 'sourcevers': '2.6.2', 'sourcesn': 'B003A041'}\n",
      "21:04:45 - Getting Meta data...\n",
      "21:04:45 - Reading Data...\n",
      "21:04:45 - Returning data...\n",
      "21:04:45 - Found Data...\n",
      "21:04:45 - Getting Header information...\n",
      "{'totalhdrs': 1, 'abbrev   ': 'Mag/X', 'stationcode': 'SB', 'title': 'TEST in air and in water', 'month': '07', 'day': '29', 'year': '2020', 'hours': '21', 'minutes': '23', 'seconds': '25', 'msec': '000', 'sampling_period': 0.1, 'samplebits': 16, 'wordsize': 2, 'typemark': 'A', 'swapping': 'S', 'signing': 'S', 'caltype': 'C', 'calmin': -15624.7654, 'calmax': 15624.28861, 'calunits': 'mG', 'recordsize': 512, 'sourcevers': '2.6.2', 'sourcesn': 'B003A041'}\n",
      "21:04:45 - Getting Meta data...\n",
      "21:04:45 - Reading Data...\n",
      "21:04:45 - Returning data...\n",
      "21:04:45 - Found Data...\n",
      "21:04:45 - Getting Header information...\n",
      "{'totalhdrs': 1, 'abbrev   ': 'Mag/Y', 'stationcode': 'SB', 'title': 'TEST in air and in water', 'month': '07', 'day': '29', 'year': '2020', 'hours': '21', 'minutes': '23', 'seconds': '25', 'msec': '000', 'sampling_period': 0.1, 'samplebits': 16, 'wordsize': 2, 'typemark': 'A', 'swapping': 'S', 'signing': 'S', 'caltype': 'C', 'calmin': -15455.0272, 'calmax': 15454.55555, 'calunits': 'mG', 'recordsize': 512, 'sourcevers': '2.6.2', 'sourcesn': 'B003A041'}\n",
      "21:04:45 - Getting Meta data...\n",
      "21:04:45 - Reading Data...\n",
      "21:04:45 - Returning data...\n",
      "21:04:46 - Found Data...\n",
      "21:04:46 - Getting Header information...\n",
      "{'totalhdrs': 1, 'abbrev   ': 'Mag/Z', 'stationcode': 'SB', 'title': 'TEST in air and in water', 'month': '07', 'day': '29', 'year': '2020', 'hours': '21', 'minutes': '23', 'seconds': '25', 'msec': '000', 'sampling_period': 0.1, 'samplebits': 16, 'wordsize': 2, 'typemark': 'A', 'swapping': 'S', 'signing': 'S', 'caltype': 'C', 'calmin': -14441.513, 'calmax': 14441.07224, 'calunits': 'mG', 'recordsize': 512, 'sourcevers': '2.6.2', 'sourcesn': 'B003A041'}\n",
      "21:04:46 - Getting Meta data...\n",
      "21:04:46 - Reading Data...\n",
      "21:04:46 - Returning data...\n",
      "21:04:46: Reshaping data to get one column for each dataset\n"
     ]
    }
   ],
   "source": [
    "read_multiple_MT(fns, op=path + 'output/')"
   ]
  },
  {
   "cell_type": "code",
   "execution_count": 9,
   "metadata": {},
   "outputs": [
    {
     "data": {
      "text/plain": [
       "['./data\\\\SBI00003.MT',\n",
       " './data\\\\SBJ00003.MT',\n",
       " './data\\\\SBK00003.MT',\n",
       " './data\\\\SBP00003.MT',\n",
       " './data\\\\SBS00006.MT',\n",
       " './data\\\\SBT00003.MT',\n",
       " './data\\\\SBX00003.MT',\n",
       " './data\\\\SBY00003.MT',\n",
       " './data\\\\SBZ00003.MT']"
      ]
     },
     "execution_count": 9,
     "metadata": {},
     "output_type": "execute_result"
    }
   ],
   "source": [
    "fns"
   ]
  }
 ],
 "metadata": {
  "hide_input": false,
  "kernelspec": {
   "display_name": "Python 3",
   "language": "python",
   "name": "python3"
  },
  "language_info": {
   "codemirror_mode": {
    "name": "ipython",
    "version": 3
   },
   "file_extension": ".py",
   "mimetype": "text/x-python",
   "name": "python",
   "nbconvert_exporter": "python",
   "pygments_lexer": "ipython3",
   "version": "3.7.6"
  },
  "toc": {
   "base_numbering": 1,
   "nav_menu": {},
   "number_sections": true,
   "sideBar": true,
   "skip_h1_title": false,
   "title_cell": "Table of Contents",
   "title_sidebar": "Contents",
   "toc_cell": false,
   "toc_position": {},
   "toc_section_display": true,
   "toc_window_display": false
  }
 },
 "nbformat": 4,
 "nbformat_minor": 4
}
